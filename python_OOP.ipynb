{
  "nbformat": 4,
  "nbformat_minor": 0,
  "metadata": {
    "colab": {
      "name": "python_OOP.ipynb",
      "provenance": [],
      "collapsed_sections": [],
      "authorship_tag": "ABX9TyPJzGUPE31dfAK6kH/AKBSy",
      "include_colab_link": true
    },
    "kernelspec": {
      "name": "python3",
      "display_name": "Python 3"
    },
    "accelerator": "GPU"
  },
  "cells": [
    {
      "cell_type": "markdown",
      "metadata": {
        "id": "view-in-github",
        "colab_type": "text"
      },
      "source": [
        "<a href=\"https://colab.research.google.com/github/waqqasansari/Python_OOP/blob/master/python_OOP.ipynb\" target=\"_parent\"><img src=\"https://colab.research.google.com/assets/colab-badge.svg\" alt=\"Open In Colab\"/></a>"
      ]
    },
    {
      "cell_type": "markdown",
      "metadata": {
        "id": "oE73YP79ywGY",
        "colab_type": "text"
      },
      "source": [
        "Reference: realpython.com"
      ]
    },
    {
      "cell_type": "code",
      "metadata": {
        "id": "ixpq6A9HjT_A",
        "colab_type": "code",
        "colab": {}
      },
      "source": [
        "#This is how to define class in pyhton\n",
        "\n",
        "class cat:\n",
        "  pass"
      ],
      "execution_count": 0,
      "outputs": []
    },
    {
      "cell_type": "markdown",
      "metadata": {
        "id": "b6rnNV21j9Bo",
        "colab_type": "text"
      },
      "source": [
        "#Intances Attributes\n",
        "All classes create objects, and all objects contains charecteristics called attributes. Use __init__() method to initialize an object’s initial attributes by giving them their default value (or state).This method must have at least one argument as well as the self variable, which refers to the object itself (e.g., cat)."
      ]
    },
    {
      "cell_type": "code",
      "metadata": {
        "id": "DUJvjDzRjvsG",
        "colab_type": "code",
        "colab": {}
      },
      "source": [
        "class Cat:\n",
        "  #initializer / Instance Attributes\n",
        "  def __init__(self, name, age):\n",
        "    self.name = name\n",
        "    self.age = age\n",
        "\n",
        "# NOTE: You will never have to call the __init__() method; it gets called automatically when you create a new 'Cat' instance."
      ],
      "execution_count": 0,
      "outputs": []
    },
    {
      "cell_type": "code",
      "metadata": {
        "id": "8PfL5cCCluYf",
        "colab_type": "code",
        "colab": {}
      },
      "source": [
        "class Cat:\n",
        "  #class attribute\n",
        "  species = 'mammal'\n",
        "\n",
        "  #initializer / instances attribute\n",
        "  def __init__(self, name, age):\n",
        "    self.name = name\n",
        "    self.age = age\n",
        "\n",
        "#So while each cat has a unique name and age, every cat will be a mammal."
      ],
      "execution_count": 0,
      "outputs": []
    },
    {
      "cell_type": "code",
      "metadata": {
        "id": "KB76DRMymoSb",
        "colab_type": "code",
        "outputId": "2104b6d3-7005-4f2a-b482-e4b1aa152074",
        "colab": {
          "base_uri": "https://localhost:8080/",
          "height": 34
        }
      },
      "source": [
        "class Cat:\n",
        "  pass\n",
        "\n",
        "Cat()\n",
        "\n",
        "Cat()\n",
        "\n",
        "a = Cat()\n",
        "b = Cat()\n",
        "\n",
        "a == b\n",
        "\n",
        "# We started by defining a new Cat() class, then created two new cats, each assigned to different objects. \n",
        "# So, to create an instance of a class, you use the the class name, followed by parentheses. \n",
        "# Then to demonstrate that each instance is actually different, we instantiated two more cats,\n",
        "# assigning each to a variable, then tested if those variables are equal."
      ],
      "execution_count": 0,
      "outputs": [
        {
          "output_type": "execute_result",
          "data": {
            "text/plain": [
              "False"
            ]
          },
          "metadata": {
            "tags": []
          },
          "execution_count": 5
        }
      ]
    },
    {
      "cell_type": "code",
      "metadata": {
        "id": "VF89cr_SnRWd",
        "colab_type": "code",
        "outputId": "fcd89d23-fb71-450a-b9ef-96d148b9bbaa",
        "colab": {
          "base_uri": "https://localhost:8080/",
          "height": 34
        }
      },
      "source": [
        "class Cat:\n",
        "  pass\n",
        "\n",
        "a = Cat()\n",
        "type(a)"
      ],
      "execution_count": 0,
      "outputs": [
        {
          "output_type": "execute_result",
          "data": {
            "text/plain": [
              "__main__.Cat"
            ]
          },
          "metadata": {
            "tags": []
          },
          "execution_count": 6
        }
      ]
    },
    {
      "cell_type": "code",
      "metadata": {
        "id": "plvqmVqqn8-m",
        "colab_type": "code",
        "outputId": "b72e82c5-8b9a-4a30-b0a4-ea0d9e25d5aa",
        "colab": {
          "base_uri": "https://localhost:8080/",
          "height": 51
        }
      },
      "source": [
        "class Cat:\n",
        "  #class attribute\n",
        "  species = 'mammal'\n",
        "\n",
        "  #initializer / instances attribute\n",
        "  def __init__(self, name, age):\n",
        "    self.name = name\n",
        "    self.age = age\n",
        "\n",
        "#Instantiate the cat object \n",
        "monty = Cat(\"Monty\", 3)\n",
        "bolt = Cat(\"Bolt\", 2)\n",
        "\n",
        "# Access the instance attributes\n",
        "print(\"{} is {} and {} is {}\" .format(monty.name, monty.age, bolt.name, bolt.age))\n",
        "\n",
        "#Is bolt mammal?\n",
        "if monty.species == 'mammal':\n",
        "  print(\"{0} is a {1}!\".format(monty.name, monty.species))\n"
      ],
      "execution_count": 0,
      "outputs": [
        {
          "output_type": "stream",
          "text": [
            "Monty is 3 and Bolt is 2\n",
            "Monty is a mammal!\n"
          ],
          "name": "stdout"
        }
      ]
    },
    {
      "cell_type": "code",
      "metadata": {
        "id": "G9bbOWyap5uP",
        "colab_type": "code",
        "outputId": "3ed8ac86-50e0-4e2f-bc25-bc4ab994c5f8",
        "colab": {
          "base_uri": "https://localhost:8080/",
          "height": 34
        }
      },
      "source": [
        "#print oldest cat\n",
        "class Cat:\n",
        "  #class attribute\n",
        "  species = 'mammal'\n",
        "\n",
        "  #initializer / instances attribute\n",
        "  def __init__(self, name, age):\n",
        "    self.name = name\n",
        "    self.age = age\n",
        "\n",
        "#Instantiate the cat object \n",
        "monty = Cat(\"Monty\", 3)\n",
        "bolt = Cat(\"Bolt\", 2)\n",
        "nina = Cat(\"Nina\", 5)\n",
        "puss = Cat(\"Puss\", 4)\n",
        "\n",
        "#Dtermine oldest cat \n",
        "def get_biggest_number(*args):\n",
        "  return max(args)\n",
        "\n",
        "print(\"The oldest cat is {} year old\".format(get_biggest_number(monty.age, bolt.age, nina.age, puss.age)))\n"
      ],
      "execution_count": 0,
      "outputs": [
        {
          "output_type": "stream",
          "text": [
            "The oldest cat is 5 year old\n"
          ],
          "name": "stdout"
        }
      ]
    },
    {
      "cell_type": "code",
      "metadata": {
        "id": "6mephRoLsJ2L",
        "colab_type": "code",
        "outputId": "649c015b-7bc4-4c37-f5d7-493133fa6ed5",
        "colab": {
          "base_uri": "https://localhost:8080/",
          "height": 51
        }
      },
      "source": [
        "#print oldest cat\n",
        "class Cat:\n",
        "  #class attribute\n",
        "  species = 'mammal'\n",
        "\n",
        "  #initializer / instances attribute\n",
        "  def __init__(self, name, age):\n",
        "    self.name = name\n",
        "    self.age = age\n",
        "\n",
        "  #instance method\n",
        "  def description(self):\n",
        "    return \"{} is {} year old\".format(self.name, self.age)\n",
        "\n",
        "  # instance method\n",
        "  def speak(self, sound):\n",
        "    return \"{} says {}\".format(self.name, sound)\n",
        "\n",
        "# Instantiate the Cat object\n",
        "arthur = Cat(\"Arthur\", 5)\n",
        "\n",
        "# call our instance methods\n",
        "print(arthur.description())\n",
        "print(arthur.speak(\"Purr Purr\"))"
      ],
      "execution_count": 0,
      "outputs": [
        {
          "output_type": "stream",
          "text": [
            "Arthur is 5 year old\n",
            "Arthur says Purr Purr\n"
          ],
          "name": "stdout"
        }
      ]
    },
    {
      "cell_type": "code",
      "metadata": {
        "id": "fUCucMnEuyts",
        "colab_type": "code",
        "outputId": "138be435-c9df-4eca-f50a-ee9ad8477873",
        "colab": {
          "base_uri": "https://localhost:8080/",
          "height": 51
        }
      },
      "source": [
        "#Modifying Attributes\n",
        "\n",
        "# You can change the value of attributes based on some behavior\n",
        "class Mail:\n",
        "  def __init__(self):\n",
        "    self.is_sent = False\n",
        "\n",
        "  def send_mail(self):\n",
        "    self.is_sent = True\n",
        "\n",
        "my_mail = Mail()\n",
        "print(my_mail.is_sent)\n",
        "\n",
        "my_mail.send_mail()\n",
        "my_mail.is_sent\n",
        "\n",
        "#Here, we added a method to send an mail, which updates the is_sent variable to True."
      ],
      "execution_count": 0,
      "outputs": [
        {
          "output_type": "stream",
          "text": [
            "False\n"
          ],
          "name": "stdout"
        },
        {
          "output_type": "execute_result",
          "data": {
            "text/plain": [
              "True"
            ]
          },
          "metadata": {
            "tags": []
          },
          "execution_count": 13
        }
      ]
    },
    {
      "cell_type": "code",
      "metadata": {
        "id": "Eo_1fJuKvd5c",
        "colab_type": "code",
        "colab": {
          "base_uri": "https://localhost:8080/",
          "height": 87
        },
        "outputId": "e1b9d57d-dcd5-4cc5-9ba8-088f4a26884d"
      },
      "source": [
        "#extended the functionality of the parent class\n",
        "#print oldest cat\n",
        "class Cat:\n",
        "  #class attribute\n",
        "  species = 'mammal'\n",
        "\n",
        "  #initializer / instances attribute\n",
        "  def __init__(self, name, age):\n",
        "    self.name = name\n",
        "    self.age = age\n",
        "\n",
        "  #instance method\n",
        "  def description(self):\n",
        "    return \"{} is {} year old\".format(self.name, self.age)\n",
        "\n",
        "  # instance method\n",
        "  def speak(self, sound):\n",
        "    return \"{} says {}\".format(self.name, sound)\n",
        "\n",
        "class bengal(Cat):\n",
        "  def run(self, speed):\n",
        "    return \"{} runs at {}\".format(self.name, speed)\n",
        "\n",
        "class abyssinian(Cat):\n",
        "  def run(self, speed):\n",
        "    return \"{} runs at {}\".format(self.name, speed)\n",
        "\n",
        "\n",
        "# Child classes inherit attributes and\n",
        "# behaviors from the parent class\n",
        "gim = bengal(\"gim\", 12)\n",
        "print(gim.description())\n",
        "\n",
        "\n",
        "# Child classes have specific attributes\n",
        "# and behaviors as well\n",
        "print(gim.run(\"slowly\"))\n",
        "\n",
        "# Is gim an instance of Cat()?\n",
        "print(isinstance(gim, Cat))\n",
        "\n",
        "# Is julie an instance of Cat()?\n",
        "julie = Cat(\"Julie\", 100)\n",
        "print(isinstance(julie, Cat))\n",
        "\n"
      ],
      "execution_count": 4,
      "outputs": [
        {
          "output_type": "stream",
          "text": [
            "gim is 12 year old\n",
            "gim runs at slowly\n",
            "True\n",
            "True\n"
          ],
          "name": "stdout"
        }
      ]
    },
    {
      "cell_type": "code",
      "metadata": {
        "id": "0janx97-vd3E",
        "colab_type": "code",
        "colab": {
          "base_uri": "https://localhost:8080/",
          "height": 52
        },
        "outputId": "0977f079-4090-4a7a-f197-d6a116b287a1"
      },
      "source": [
        "#overidding the functionality of the parent\n",
        "class horse():\n",
        "  species = 'mammal'\n",
        "  \n",
        "class somebreed(horse):\n",
        "  pass\n",
        "\n",
        "class someotherbreed(horse):\n",
        "  species = 'Turkish'\n",
        "\n",
        "frank = somebreed()\n",
        "print(frank.species)\n",
        "\n",
        "tom = someotherbreed()\n",
        "print(tom.species)\n"
      ],
      "execution_count": 7,
      "outputs": [
        {
          "output_type": "stream",
          "text": [
            "mammal\n",
            "Turkish\n"
          ],
          "name": "stdout"
        }
      ]
    },
    {
      "cell_type": "code",
      "metadata": {
        "id": "T_Ow9fK5vdz6",
        "colab_type": "code",
        "colab": {}
      },
      "source": [
        ""
      ],
      "execution_count": 0,
      "outputs": []
    }
  ]
}